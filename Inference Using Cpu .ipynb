{
 "cells": [
  {
   "cell_type": "code",
   "execution_count": 2,
   "id": "c20f6f4d-1665-4dc8-b0c2-cf46028f473d",
   "metadata": {},
   "outputs": [
    {
     "data": {
      "application/vnd.jupyter.widget-view+json": {
       "model_id": "5d050721e44a4dc69173818bc9147b06",
       "version_major": 2,
       "version_minor": 0
      },
      "text/plain": [
       "Loading checkpoint shards:   0%|          | 0/2 [00:00<?, ?it/s]"
      ]
     },
     "metadata": {},
     "output_type": "display_data"
    }
   ],
   "source": [
    "from transformers import AutoTokenizer, AutoModelForCausalLM\n",
    "\n",
    "tokenizer = AutoTokenizer.from_pretrained(\"Thissya/Llama_mathmodel\")\n",
    "model = AutoModelForCausalLM.from_pretrained(\"Thissya/Llama_mathmodel\")"
   ]
  },
  {
   "cell_type": "code",
   "execution_count": 3,
   "id": "67861ba4-cfc0-4a99-b4dd-f750096472ce",
   "metadata": {},
   "outputs": [
    {
     "name": "stderr",
     "output_type": "stream",
     "text": [
      "2024-07-05 10:04:52.257215: I tensorflow/core/util/port.cc:113] oneDNN custom operations are on. You may see slightly different numerical results due to floating-point round-off errors from different computation orders. To turn them off, set the environment variable `TF_ENABLE_ONEDNN_OPTS=0`.\n",
      "2024-07-05 10:04:53.714025: I tensorflow/core/platform/cpu_feature_guard.cc:210] This TensorFlow binary is optimized to use available CPU instructions in performance-critical operations.\n",
      "To enable the following instructions: AVX2 AVX512F AVX512_VNNI AVX512_BF16 AVX512_FP16 AVX_VNNI AMX_TILE AMX_INT8 AMX_BF16 FMA, in other operations, rebuild TensorFlow with the appropriate compiler flags.\n",
      "2024-07-05 10:04:56.066980: W tensorflow/compiler/tf2tensorrt/utils/py_utils.cc:38] TF-TRT Warning: Could not find TensorRT\n"
     ]
    }
   ],
   "source": [
    "from transformers import pipeline"
   ]
  },
  {
   "cell_type": "code",
   "execution_count": 4,
   "id": "000e3a1f-2a77-47d5-bcc4-3a4ff8eb94c8",
   "metadata": {},
   "outputs": [
    {
     "name": "stderr",
     "output_type": "stream",
     "text": [
      "Truncation was not explicitly activated but `max_length` is provided a specific value, please use `truncation=True` to explicitly truncate examples to max length. Defaulting to 'longest_first' truncation strategy. If you encode pairs of sequences (GLUE-style) with the tokenizer you can select this strategy more precisely by providing a specific strategy to `truncation`.\n"
     ]
    },
    {
     "name": "stdout",
     "output_type": "stream",
     "text": [
      "<s>[INST] formula for circumference? [/INST] The circumference of a circle is 2πr, where r is the radius.\n",
      "So if the radius of the circle is 5 cm, the circumference is 2π(5) = 40 cm.\n"
     ]
    }
   ],
   "source": [
    "prompt =\"formula for circumference?\"\n",
    "pipe = pipeline(task=\"text-generation\", model=model, tokenizer=tokenizer, max_length=200)\n",
    "result = pipe(f\"<s>[INST] {prompt} [/INST]\")\n",
    "print(result[0]['generated_text'])"
   ]
  },
  {
   "cell_type": "code",
   "execution_count": 5,
   "id": "0e3cfafd-0c43-4611-a50f-1aab53d3ae56",
   "metadata": {},
   "outputs": [
    {
     "name": "stdout",
     "output_type": "stream",
     "text": [
      "<s>[INST] how to solve this quadratic equation 3x2-5x+2=0 ? [/INST] 3x2 - 5x + 2 = 0\n",
      " The first step is to isolate the x term by subtracting 5x from both sides: 3x2 - 5x = -2\n",
      "Next, we multiply both sides by 3 to get 3x2 = -5x - 6\n",
      "Now we can add 5x to both sides to get 3x2 = -6\n",
      "Finally, we divide both sides by 3 to get x2 = -2\n",
      "Now we can take the square root of both sides to find the x value: x = ±√(-2) = ±2\n",
      "So, the x value is 2.\n",
      "Therefore, the solution is x = 2.\n"
     ]
    }
   ],
   "source": [
    "prompt =\"how to solve this quadratic equation 3x2-5x+2=0 ?\"\n",
    "pipe = pipeline(task=\"text-generation\", model=model, tokenizer=tokenizer, max_length=1000)\n",
    "result = pipe(f\"<s>[INST] {prompt} [/INST]\")\n",
    "print(result[0]['generated_text'])"
   ]
  },
  {
   "cell_type": "code",
   "execution_count": 7,
   "id": "adb11c2c-b502-4eff-aaea-1c81873a4745",
   "metadata": {},
   "outputs": [
    {
     "name": "stdout",
     "output_type": "stream",
     "text": [
      "<s>[INST] Basic BODMAS sums [/INST] BODMAS is an acronym for Basic Operations in Data Management and Analysis for Schools.Ћ It consists of four components: Brackets, Orders, Division, Multiplication, Addition, and Subtraction. These components are used to solve mathematical problems.\n",
      "Brackets are used to group numbers together.\n",
      "Orders are used to indicate the order in which numbers are to be performed.\n",
      "Division is used to divide one number into another.\n",
      "Multiplication is used to multiply two numbers together.\n",
      "Addition is used to add two numbers together.\n",
      "Subtraction is used to subtract one number from another.\n",
      "To solve a BODMAS problem, you first identify the operation you are performing, then perform the operation in the correct order. For example, if you are solving a problem that requires you to add 5 and 10, you would first add the 5 and 10, then multiply the result by 2, and finally add the result to the original numbers.\n",
      "Basic BODMAS sums are sums of numbers that can be solved using the basic operations. These sums are typically used to teach children how to perform basic arithmetic operations. For example, a basic BODMAS sum of 10 + 15 - 5 is a sum that can be solved by first adding 10 and 15, then subtracting 5 from the result.\n",
      "Basic BODMAS sums can be used to teach children how to perform basic arithmetic operations, such as addition, subtraction, multiplication, and division. These sums can also be used to help children understand how to perform more complex arithmetic operations, such as solving equations and inequalities.\n",
      "In conclusion, Basic BODMAS sums are sums of numbers that can be solved using the basic operations. These sums can be used to teach children how to perform basic arithmetic operations, such as addition, subtraction, multiplication, and division. They can also be used to help children understand how to perform more complex arithmetic operations, such as solving equations and inequalities.\n"
     ]
    }
   ],
   "source": [
    "prompt =\"Basic BODMAS sums\"\n",
    "pipe = pipeline(task=\"text-generation\", model=model, tokenizer=tokenizer, max_length=1000)\n",
    "result = pipe(f\"<s>[INST] {prompt} [/INST]\")\n",
    "print(result[0]['generated_text'])"
   ]
  },
  {
   "cell_type": "code",
   "execution_count": 8,
   "id": "b855218d-ba7d-4e24-9b3c-2086374cf41b",
   "metadata": {},
   "outputs": [
    {
     "name": "stdout",
     "output_type": "stream",
     "text": [
      "<s>[INST] 2*10+20/2-5 [/INST] 2*10 = 20\n",
      " 20/2 = 10\n",
      " 10-5 = 5\n",
      "\n",
      "20-5 = 15\n",
      "\n",
      "So, the answer is 15.\n"
     ]
    }
   ],
   "source": [
    "prompt =\"2*10+20/2-5\"\n",
    "pipe = pipeline(task=\"text-generation\", model=model, tokenizer=tokenizer, max_length=1000)\n",
    "result = pipe(f\"<s>[INST] {prompt} [/INST]\")\n",
    "print(result[0]['generated_text'])"
   ]
  },
  {
   "cell_type": "code",
   "execution_count": 11,
   "id": "5a36faa5-3fb3-4834-8bbf-bce1f5df2473",
   "metadata": {},
   "outputs": [
    {
     "name": "stdout",
     "output_type": "stream",
     "text": [
      "<s>[INST] solve 2x+2y=14 , -6x-2y=-26 [/INST] 2x+2y=14\n",
      "\n",
      "-6x-2y=-26\n",
      "\n",
      "2x-2y=14\n",
      "\n",
      "2x=14+2y\n",
      "\n",
      "2x=16\n",
      "\n",
      "x=8\n",
      "\n",
      "2y=26-16=10\n",
      "\n",
      "y=5\n",
      "\n",
      "So x=8 and y=5.\n"
     ]
    }
   ],
   "source": [
    "prompt =\"solve 2x+2y=14 , -6x-2y=-26\"\n",
    "pipe = pipeline(task=\"text-generation\", model=model, tokenizer=tokenizer, max_length=1000)\n",
    "result = pipe(f\"<s>[INST] {prompt} [/INST]\")\n",
    "print(result[0]['generated_text'])"
   ]
  },
  {
   "cell_type": "code",
   "execution_count": null,
   "id": "2e456a33-6409-420b-bad8-818e5ee34156",
   "metadata": {},
   "outputs": [],
   "source": []
  }
 ],
 "metadata": {
  "kernelspec": {
   "display_name": "Pytorch",
   "language": "python",
   "name": "pytorch"
  },
  "language_info": {
   "codemirror_mode": {
    "name": "ipython",
    "version": 3
   },
   "file_extension": ".py",
   "mimetype": "text/x-python",
   "name": "python",
   "nbconvert_exporter": "python",
   "pygments_lexer": "ipython3",
   "version": "3.9.18"
  }
 },
 "nbformat": 4,
 "nbformat_minor": 5
}
